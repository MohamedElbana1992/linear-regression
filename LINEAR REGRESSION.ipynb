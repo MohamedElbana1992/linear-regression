{
 "cells": [
  {
   "cell_type": "code",
   "execution_count": 7,
   "id": "ef80455d",
   "metadata": {},
   "outputs": [],
   "source": [
    "from sklearn.datasets import load_boston\n"
   ]
  },
  {
   "cell_type": "code",
   "execution_count": 2,
   "id": "5d9c9e78",
   "metadata": {},
   "outputs": [],
   "source": [
    "BostonData = load_boston()"
   ]
  },
  {
   "cell_type": "code",
   "execution_count": 3,
   "id": "8a0018ed",
   "metadata": {},
   "outputs": [],
   "source": [
    "X = BostonData.data"
   ]
  },
  {
   "cell_type": "code",
   "execution_count": 4,
   "id": "89f0287a",
   "metadata": {},
   "outputs": [],
   "source": [
    "y = BostonData.target"
   ]
  },
  {
   "cell_type": "code",
   "execution_count": 5,
   "id": "39ced4b6",
   "metadata": {},
   "outputs": [],
   "source": [
    "from sklearn.model_selection import train_test_split"
   ]
  },
  {
   "cell_type": "code",
   "execution_count": 6,
   "id": "b810e559",
   "metadata": {},
   "outputs": [],
   "source": [
    " X_train, X_test, y_train, y_test = train_test_split(X, y, test_size=0.33, random_state=42)"
   ]
  },
  {
   "cell_type": "code",
   "execution_count": 8,
   "id": "e47fe148",
   "metadata": {},
   "outputs": [],
   "source": [
    "from sklearn.linear_model import LinearRegression"
   ]
  },
  {
   "cell_type": "code",
   "execution_count": 9,
   "id": "b4bf679b",
   "metadata": {},
   "outputs": [],
   "source": [
    "LinearRegressionMODEL=LinearRegression(fit_intercept=True,normalize=True,copy_X=True,n_jobs=-1)"
   ]
  },
  {
   "cell_type": "code",
   "execution_count": 10,
   "id": "21038e61",
   "metadata": {},
   "outputs": [
    {
     "data": {
      "text/plain": [
       "LinearRegression(n_jobs=-1, normalize=True)"
      ]
     },
     "execution_count": 10,
     "metadata": {},
     "output_type": "execute_result"
    }
   ],
   "source": [
    "LinearRegressionMODEL.fit(X_train, y_train)"
   ]
  },
  {
   "cell_type": "code",
   "execution_count": 11,
   "id": "f15fcbb5",
   "metadata": {},
   "outputs": [
    {
     "data": {
      "text/plain": [
       "0.7392344370995025"
      ]
     },
     "execution_count": 11,
     "metadata": {},
     "output_type": "execute_result"
    }
   ],
   "source": [
    "LinearRegressionMODEL.score(X_train, y_train)"
   ]
  },
  {
   "cell_type": "code",
   "execution_count": 12,
   "id": "5aac909e",
   "metadata": {},
   "outputs": [
    {
     "data": {
      "text/plain": [
       "0.7261570836552476"
      ]
     },
     "execution_count": 12,
     "metadata": {},
     "output_type": "execute_result"
    }
   ],
   "source": [
    "LinearRegressionMODEL.score(X_test, y_test)"
   ]
  },
  {
   "cell_type": "code",
   "execution_count": 13,
   "id": "09e79347",
   "metadata": {},
   "outputs": [
    {
     "data": {
      "text/plain": [
       "array([-1.28749718e-01,  3.78232228e-02,  5.82109233e-02,  3.23866812e+00,\n",
       "       -1.61698120e+01,  3.90205116e+00, -1.28507825e-02, -1.42222430e+00,\n",
       "        2.34853915e-01, -8.21331947e-03, -9.28722459e-01,  1.17695921e-02,\n",
       "       -5.47566338e-01])"
      ]
     },
     "execution_count": 13,
     "metadata": {},
     "output_type": "execute_result"
    }
   ],
   "source": [
    "LinearRegressionMODEL.coef_"
   ]
  },
  {
   "cell_type": "code",
   "execution_count": 14,
   "id": "e838c220",
   "metadata": {},
   "outputs": [
    {
     "data": {
      "text/plain": [
       "33.334975755635895"
      ]
     },
     "execution_count": 14,
     "metadata": {},
     "output_type": "execute_result"
    }
   ],
   "source": [
    "LinearRegressionMODEL.intercept_"
   ]
  },
  {
   "cell_type": "code",
   "execution_count": 20,
   "id": "75205385",
   "metadata": {},
   "outputs": [
    {
     "name": "stdout",
     "output_type": "stream",
     "text": [
      "[28.53469469 36.6187006  15.63751079 25.5014496  18.7096734  23.16471591\n",
      " 17.31011035 14.07736367 23.01064388 20.54223482 24.91632351 18.41098052\n",
      " -6.52079687 21.83372604 19.14903064 26.0587322  20.30232625  5.74943567\n",
      " 40.33137811 17.45791446 27.47486665 30.2170757  10.80555625 23.87721728\n",
      " 17.99492211 16.02608791 23.268288   14.36825207 22.38116971 19.3092068\n",
      " 22.17284576 25.05925441 25.13780726 18.46730198 16.60405712 17.46564046\n",
      " 30.71367733 20.05106788 23.9897768  24.94322408 13.97945355 31.64706967\n",
      " 42.48057206 17.70042814 26.92507869 17.15897719 13.68918087 26.14924245\n",
      " 20.2782306  29.99003492 21.21260347 34.03649185 15.41837553 25.95781061\n",
      " 39.13897274 22.96118424 18.80310558 33.07865362 24.74384155 12.83640958\n",
      " 22.41963398 30.64804979 31.59567111 16.34088197 20.9504304  16.70145875\n",
      " 20.23215646 26.1437865  31.12160889 11.89762768 20.45432404 27.48356359\n",
      " 10.89034224 16.77707214 24.02593714  5.44691807 21.35152331 41.27267175\n",
      " 18.13447647  9.8012101  21.24024342 13.02644969 21.80198374  9.48201752\n",
      " 22.99183857 31.90465631 18.95594718 25.48515032 29.49687019 20.07282539\n",
      " 25.5616062   5.59584382 20.18410904 15.08773299 14.34562117 20.85155407\n",
      " 24.80149389 -0.19785401 13.57649004 15.64401679 22.03765773 24.70314482\n",
      " 10.86409112 19.60231067 23.73429161 12.08082177 18.40997903 25.4366158\n",
      " 20.76506636 24.68588237  7.4995836  18.93015665 21.70801764 27.14350579\n",
      " 31.93765208 15.19483586 34.01357428 12.85763091 21.06646184 28.58470042\n",
      " 15.77437534 24.77512495  3.64655689 23.91169589 25.82292925 23.03339677\n",
      " 25.35158335 33.05655447 20.65930467 38.18917361 14.04714297 25.26034469\n",
      " 17.6138723  20.60883766  9.8525544  21.06756951 22.20145587 32.2920276\n",
      " 31.57638342 15.29265938 16.7100235  29.10550932 25.17762329 16.88159225\n",
      "  6.32621877 26.70210263 23.3525851  17.24168182 13.22815696 39.49907507\n",
      " 16.53528575 18.14635902 25.06620426 23.70640231 22.20167772 21.22272327\n",
      " 16.89825921 23.15518273 28.69699805  6.65526482 23.98399958 17.21004545\n",
      " 21.0574427  25.01734597 27.65461859 20.70205823 40.38214871]\n"
     ]
    }
   ],
   "source": [
    "y_pred=LinearRegressionMODEL.predict(X_test)\n",
    "print(y_pred)"
   ]
  },
  {
   "cell_type": "code",
   "execution_count": 17,
   "id": "3e702f31",
   "metadata": {},
   "outputs": [],
   "source": [
    "from sklearn.metrics import mean_absolute_error"
   ]
  },
  {
   "cell_type": "code",
   "execution_count": 21,
   "id": "808f86db",
   "metadata": {},
   "outputs": [
    {
     "name": "stdout",
     "output_type": "stream",
     "text": [
      "Mean_absolute_error value: 3.1482557548168297\n"
     ]
    }
   ],
   "source": [
    "MAEvalue=mean_absolute_error(y_test,y_pred,multioutput='uniform_average')\n",
    "print(\"Mean_absolute_error value:\",MAEvalue)"
   ]
  },
  {
   "cell_type": "code",
   "execution_count": 22,
   "id": "9a48ab4c",
   "metadata": {},
   "outputs": [],
   "source": [
    "from sklearn.metrics import mean_squared_error"
   ]
  },
  {
   "cell_type": "code",
   "execution_count": 23,
   "id": "62096f0b",
   "metadata": {},
   "outputs": [
    {
     "name": "stdout",
     "output_type": "stream",
     "text": [
      "mean_absolute_error value: 3.1482557548168297\n"
     ]
    }
   ],
   "source": [
    "MSEvalue=mean_absolute_error(y_test,y_pred,multioutput='uniform_average')\n",
    "print(\"mean_absolute_error value:\",MSEvalue)"
   ]
  },
  {
   "cell_type": "code",
   "execution_count": 24,
   "id": "8f3ced6a",
   "metadata": {},
   "outputs": [],
   "source": [
    "from sklearn.metrics import median_absolute_error\n"
   ]
  },
  {
   "cell_type": "code",
   "execution_count": 26,
   "id": "558e02d3",
   "metadata": {},
   "outputs": [
    {
     "name": "stdout",
     "output_type": "stream",
     "text": [
      "median_absolute_error value: 2.3126034730298066\n"
     ]
    }
   ],
   "source": [
    "MDSEvalue=median_absolute_error(y_test,y_pred)\n",
    "print(\"median_absolute_error value:\",MDSEvalue)"
   ]
  },
  {
   "cell_type": "markdown",
   "id": "31ab2172",
   "metadata": {},
   "source": [
    "# satf"
   ]
  },
  {
   "cell_type": "code",
   "execution_count": 27,
   "id": "3d346d40",
   "metadata": {},
   "outputs": [],
   "source": [
    "import matplotlib.pyplot as plt\n",
    "import pandas as pd"
   ]
  },
  {
   "cell_type": "code",
   "execution_count": 28,
   "id": "af5c4229",
   "metadata": {},
   "outputs": [
    {
     "data": {
      "text/html": [
       "<div>\n",
       "<style scoped>\n",
       "    .dataframe tbody tr th:only-of-type {\n",
       "        vertical-align: middle;\n",
       "    }\n",
       "\n",
       "    .dataframe tbody tr th {\n",
       "        vertical-align: top;\n",
       "    }\n",
       "\n",
       "    .dataframe thead th {\n",
       "        text-align: right;\n",
       "    }\n",
       "</style>\n",
       "<table border=\"1\" class=\"dataframe\">\n",
       "  <thead>\n",
       "    <tr style=\"text-align: right;\">\n",
       "      <th></th>\n",
       "      <th>high_GPA</th>\n",
       "      <th>math_SAT</th>\n",
       "      <th>verb_SAT</th>\n",
       "      <th>comp_GPA</th>\n",
       "      <th>univ_GPA</th>\n",
       "    </tr>\n",
       "  </thead>\n",
       "  <tbody>\n",
       "    <tr>\n",
       "      <th>0</th>\n",
       "      <td>3.45</td>\n",
       "      <td>643</td>\n",
       "      <td>589</td>\n",
       "      <td>3.76</td>\n",
       "      <td>3.52</td>\n",
       "    </tr>\n",
       "    <tr>\n",
       "      <th>1</th>\n",
       "      <td>2.78</td>\n",
       "      <td>558</td>\n",
       "      <td>512</td>\n",
       "      <td>2.87</td>\n",
       "      <td>2.91</td>\n",
       "    </tr>\n",
       "    <tr>\n",
       "      <th>2</th>\n",
       "      <td>2.52</td>\n",
       "      <td>583</td>\n",
       "      <td>503</td>\n",
       "      <td>2.54</td>\n",
       "      <td>2.40</td>\n",
       "    </tr>\n",
       "    <tr>\n",
       "      <th>3</th>\n",
       "      <td>3.67</td>\n",
       "      <td>685</td>\n",
       "      <td>602</td>\n",
       "      <td>3.83</td>\n",
       "      <td>3.47</td>\n",
       "    </tr>\n",
       "    <tr>\n",
       "      <th>4</th>\n",
       "      <td>3.24</td>\n",
       "      <td>592</td>\n",
       "      <td>538</td>\n",
       "      <td>3.29</td>\n",
       "      <td>3.47</td>\n",
       "    </tr>\n",
       "    <tr>\n",
       "      <th>...</th>\n",
       "      <td>...</td>\n",
       "      <td>...</td>\n",
       "      <td>...</td>\n",
       "      <td>...</td>\n",
       "      <td>...</td>\n",
       "    </tr>\n",
       "    <tr>\n",
       "      <th>100</th>\n",
       "      <td>3.76</td>\n",
       "      <td>605</td>\n",
       "      <td>590</td>\n",
       "      <td>3.74</td>\n",
       "      <td>3.64</td>\n",
       "    </tr>\n",
       "    <tr>\n",
       "      <th>101</th>\n",
       "      <td>3.49</td>\n",
       "      <td>692</td>\n",
       "      <td>683</td>\n",
       "      <td>3.27</td>\n",
       "      <td>3.42</td>\n",
       "    </tr>\n",
       "    <tr>\n",
       "      <th>102</th>\n",
       "      <td>3.07</td>\n",
       "      <td>680</td>\n",
       "      <td>692</td>\n",
       "      <td>3.19</td>\n",
       "      <td>3.25</td>\n",
       "    </tr>\n",
       "    <tr>\n",
       "      <th>103</th>\n",
       "      <td>2.19</td>\n",
       "      <td>617</td>\n",
       "      <td>503</td>\n",
       "      <td>2.98</td>\n",
       "      <td>2.76</td>\n",
       "    </tr>\n",
       "    <tr>\n",
       "      <th>104</th>\n",
       "      <td>3.46</td>\n",
       "      <td>516</td>\n",
       "      <td>528</td>\n",
       "      <td>3.28</td>\n",
       "      <td>3.41</td>\n",
       "    </tr>\n",
       "  </tbody>\n",
       "</table>\n",
       "<p>105 rows × 5 columns</p>\n",
       "</div>"
      ],
      "text/plain": [
       "     high_GPA  math_SAT  verb_SAT  comp_GPA  univ_GPA\n",
       "0        3.45       643       589      3.76      3.52\n",
       "1        2.78       558       512      2.87      2.91\n",
       "2        2.52       583       503      2.54      2.40\n",
       "3        3.67       685       602      3.83      3.47\n",
       "4        3.24       592       538      3.29      3.47\n",
       "..        ...       ...       ...       ...       ...\n",
       "100      3.76       605       590      3.74      3.64\n",
       "101      3.49       692       683      3.27      3.42\n",
       "102      3.07       680       692      3.19      3.25\n",
       "103      2.19       617       503      2.98      2.76\n",
       "104      3.46       516       528      3.28      3.41\n",
       "\n",
       "[105 rows x 5 columns]"
      ]
     },
     "execution_count": 28,
     "metadata": {},
     "output_type": "execute_result"
    }
   ],
   "source": [
    "dataset=pd.read_csv('satf.csv')\n",
    "dataset"
   ]
  },
  {
   "cell_type": "code",
   "execution_count": 29,
   "id": "bb2047ea",
   "metadata": {},
   "outputs": [
    {
     "data": {
      "text/html": [
       "<div>\n",
       "<style scoped>\n",
       "    .dataframe tbody tr th:only-of-type {\n",
       "        vertical-align: middle;\n",
       "    }\n",
       "\n",
       "    .dataframe tbody tr th {\n",
       "        vertical-align: top;\n",
       "    }\n",
       "\n",
       "    .dataframe thead th {\n",
       "        text-align: right;\n",
       "    }\n",
       "</style>\n",
       "<table border=\"1\" class=\"dataframe\">\n",
       "  <thead>\n",
       "    <tr style=\"text-align: right;\">\n",
       "      <th></th>\n",
       "      <th>high_GPA</th>\n",
       "      <th>math_SAT</th>\n",
       "      <th>verb_SAT</th>\n",
       "      <th>comp_GPA</th>\n",
       "      <th>univ_GPA</th>\n",
       "    </tr>\n",
       "  </thead>\n",
       "  <tbody>\n",
       "    <tr>\n",
       "      <th>0</th>\n",
       "      <td>3.45</td>\n",
       "      <td>643</td>\n",
       "      <td>589</td>\n",
       "      <td>3.76</td>\n",
       "      <td>3.52</td>\n",
       "    </tr>\n",
       "    <tr>\n",
       "      <th>1</th>\n",
       "      <td>2.78</td>\n",
       "      <td>558</td>\n",
       "      <td>512</td>\n",
       "      <td>2.87</td>\n",
       "      <td>2.91</td>\n",
       "    </tr>\n",
       "    <tr>\n",
       "      <th>2</th>\n",
       "      <td>2.52</td>\n",
       "      <td>583</td>\n",
       "      <td>503</td>\n",
       "      <td>2.54</td>\n",
       "      <td>2.40</td>\n",
       "    </tr>\n",
       "    <tr>\n",
       "      <th>3</th>\n",
       "      <td>3.67</td>\n",
       "      <td>685</td>\n",
       "      <td>602</td>\n",
       "      <td>3.83</td>\n",
       "      <td>3.47</td>\n",
       "    </tr>\n",
       "    <tr>\n",
       "      <th>4</th>\n",
       "      <td>3.24</td>\n",
       "      <td>592</td>\n",
       "      <td>538</td>\n",
       "      <td>3.29</td>\n",
       "      <td>3.47</td>\n",
       "    </tr>\n",
       "    <tr>\n",
       "      <th>5</th>\n",
       "      <td>2.10</td>\n",
       "      <td>562</td>\n",
       "      <td>486</td>\n",
       "      <td>2.64</td>\n",
       "      <td>2.37</td>\n",
       "    </tr>\n",
       "    <tr>\n",
       "      <th>6</th>\n",
       "      <td>2.82</td>\n",
       "      <td>573</td>\n",
       "      <td>548</td>\n",
       "      <td>2.86</td>\n",
       "      <td>2.40</td>\n",
       "    </tr>\n",
       "    <tr>\n",
       "      <th>7</th>\n",
       "      <td>2.36</td>\n",
       "      <td>559</td>\n",
       "      <td>536</td>\n",
       "      <td>2.03</td>\n",
       "      <td>2.24</td>\n",
       "    </tr>\n",
       "    <tr>\n",
       "      <th>8</th>\n",
       "      <td>2.42</td>\n",
       "      <td>552</td>\n",
       "      <td>583</td>\n",
       "      <td>2.81</td>\n",
       "      <td>3.02</td>\n",
       "    </tr>\n",
       "    <tr>\n",
       "      <th>9</th>\n",
       "      <td>3.51</td>\n",
       "      <td>617</td>\n",
       "      <td>591</td>\n",
       "      <td>3.41</td>\n",
       "      <td>3.32</td>\n",
       "    </tr>\n",
       "  </tbody>\n",
       "</table>\n",
       "</div>"
      ],
      "text/plain": [
       "   high_GPA  math_SAT  verb_SAT  comp_GPA  univ_GPA\n",
       "0      3.45       643       589      3.76      3.52\n",
       "1      2.78       558       512      2.87      2.91\n",
       "2      2.52       583       503      2.54      2.40\n",
       "3      3.67       685       602      3.83      3.47\n",
       "4      3.24       592       538      3.29      3.47\n",
       "5      2.10       562       486      2.64      2.37\n",
       "6      2.82       573       548      2.86      2.40\n",
       "7      2.36       559       536      2.03      2.24\n",
       "8      2.42       552       583      2.81      3.02\n",
       "9      3.51       617       591      3.41      3.32"
      ]
     },
     "execution_count": 29,
     "metadata": {},
     "output_type": "execute_result"
    }
   ],
   "source": [
    "dataset.head(10)"
   ]
  },
  {
   "cell_type": "code",
   "execution_count": 33,
   "id": "dc56a18d",
   "metadata": {},
   "outputs": [
    {
     "data": {
      "text/html": [
       "<div>\n",
       "<style scoped>\n",
       "    .dataframe tbody tr th:only-of-type {\n",
       "        vertical-align: middle;\n",
       "    }\n",
       "\n",
       "    .dataframe tbody tr th {\n",
       "        vertical-align: top;\n",
       "    }\n",
       "\n",
       "    .dataframe thead th {\n",
       "        text-align: right;\n",
       "    }\n",
       "</style>\n",
       "<table border=\"1\" class=\"dataframe\">\n",
       "  <thead>\n",
       "    <tr style=\"text-align: right;\">\n",
       "      <th></th>\n",
       "      <th>high_GPA</th>\n",
       "    </tr>\n",
       "  </thead>\n",
       "  <tbody>\n",
       "    <tr>\n",
       "      <th>0</th>\n",
       "      <td>3.45</td>\n",
       "    </tr>\n",
       "    <tr>\n",
       "      <th>1</th>\n",
       "      <td>2.78</td>\n",
       "    </tr>\n",
       "    <tr>\n",
       "      <th>2</th>\n",
       "      <td>2.52</td>\n",
       "    </tr>\n",
       "    <tr>\n",
       "      <th>3</th>\n",
       "      <td>3.67</td>\n",
       "    </tr>\n",
       "    <tr>\n",
       "      <th>4</th>\n",
       "      <td>3.24</td>\n",
       "    </tr>\n",
       "    <tr>\n",
       "      <th>...</th>\n",
       "      <td>...</td>\n",
       "    </tr>\n",
       "    <tr>\n",
       "      <th>100</th>\n",
       "      <td>3.76</td>\n",
       "    </tr>\n",
       "    <tr>\n",
       "      <th>101</th>\n",
       "      <td>3.49</td>\n",
       "    </tr>\n",
       "    <tr>\n",
       "      <th>102</th>\n",
       "      <td>3.07</td>\n",
       "    </tr>\n",
       "    <tr>\n",
       "      <th>103</th>\n",
       "      <td>2.19</td>\n",
       "    </tr>\n",
       "    <tr>\n",
       "      <th>104</th>\n",
       "      <td>3.46</td>\n",
       "    </tr>\n",
       "  </tbody>\n",
       "</table>\n",
       "<p>105 rows × 1 columns</p>\n",
       "</div>"
      ],
      "text/plain": [
       "     high_GPA\n",
       "0        3.45\n",
       "1        2.78\n",
       "2        2.52\n",
       "3        3.67\n",
       "4        3.24\n",
       "..        ...\n",
       "100      3.76\n",
       "101      3.49\n",
       "102      3.07\n",
       "103      2.19\n",
       "104      3.46\n",
       "\n",
       "[105 rows x 1 columns]"
      ]
     },
     "execution_count": 33,
     "metadata": {},
     "output_type": "execute_result"
    }
   ],
   "source": [
    "X=dataset.iloc[:,:1]\n",
    "X"
   ]
  },
  {
   "cell_type": "code",
   "execution_count": 36,
   "id": "74f647bf",
   "metadata": {},
   "outputs": [
    {
     "data": {
      "text/plain": [
       "0      3.52\n",
       "1      2.91\n",
       "2      2.40\n",
       "3      3.47\n",
       "4      3.47\n",
       "       ... \n",
       "100    3.64\n",
       "101    3.42\n",
       "102    3.25\n",
       "103    2.76\n",
       "104    3.41\n",
       "Name: univ_GPA, Length: 105, dtype: float64"
      ]
     },
     "execution_count": 36,
     "metadata": {},
     "output_type": "execute_result"
    }
   ],
   "source": [
    "y=dataset.iloc[:,-1]\n",
    "y"
   ]
  },
  {
   "cell_type": "code",
   "execution_count": 37,
   "id": "3eb78d26",
   "metadata": {},
   "outputs": [],
   "source": [
    "from sklearn.model_selection import train_test_split\n",
    "X_train, X_test, y_train, y_test = train_test_split(X, y, test_size = 0.2, random_state = 0)\n"
   ]
  },
  {
   "cell_type": "code",
   "execution_count": 38,
   "id": "607d91e9",
   "metadata": {},
   "outputs": [
    {
     "data": {
      "text/plain": [
       "LinearRegression()"
      ]
     },
     "execution_count": 38,
     "metadata": {},
     "output_type": "execute_result"
    }
   ],
   "source": [
    "from sklearn.linear_model import LinearRegression\n",
    "regressor=LinearRegression()\n",
    "regressor.fit(X_train, y_train)\n"
   ]
  },
  {
   "cell_type": "code",
   "execution_count": 39,
   "id": "0ff4883e",
   "metadata": {},
   "outputs": [
    {
     "data": {
      "text/plain": [
       "0.6156641228726631"
      ]
     },
     "execution_count": 39,
     "metadata": {},
     "output_type": "execute_result"
    }
   ],
   "source": [
    "regressor.score(X_train, y_train)"
   ]
  },
  {
   "cell_type": "code",
   "execution_count": 40,
   "id": "c18b9390",
   "metadata": {},
   "outputs": [
    {
     "data": {
      "text/plain": [
       "0.5726696397623814"
      ]
     },
     "execution_count": 40,
     "metadata": {},
     "output_type": "execute_result"
    }
   ],
   "source": [
    "regressor.score(X_test, y_test)"
   ]
  },
  {
   "cell_type": "code",
   "execution_count": 42,
   "id": "97514338",
   "metadata": {},
   "outputs": [
    {
     "name": "stdout",
     "output_type": "stream",
     "text": [
      "[2.87687329 3.27742331 2.79676329 3.31080248 3.30412664 3.25739581\n",
      " 3.72470416 3.62456665 3.21066497 2.72332912 3.46434665 3.24404414\n",
      " 3.01038997 3.42429165 2.68994995 3.49104998 2.75670829 3.52442915\n",
      " 3.78478666 2.73000496 3.00371413]\n"
     ]
    }
   ],
   "source": [
    "y_pred=regressor.predict(X_test)\n",
    "print(y_pred)"
   ]
  },
  {
   "cell_type": "code",
   "execution_count": 43,
   "id": "da888f42",
   "metadata": {},
   "outputs": [
    {
     "data": {
      "text/plain": [
       "0.242411714035095"
      ]
     },
     "execution_count": 43,
     "metadata": {},
     "output_type": "execute_result"
    }
   ],
   "source": [
    "from sklearn.metrics import mean_absolute_error\n",
    "mean_absolute_error(y_test, y_pred)"
   ]
  },
  {
   "cell_type": "code",
   "execution_count": 46,
   "id": "ad8bc7d0",
   "metadata": {},
   "outputs": [
    {
     "data": {
      "image/png": "[encoded data removed]",
      "text/plain": [
       "<Figure size 432x288 with 1 Axes>"
      ]
     },
     "metadata": {
      "needs_background": "light"
     },
     "output_type": "display_data"
    }
   ],
   "source": [
    "plt.scatter(X_test, y_test,color='green')\n",
    "plt.plot(X_train, regressor.predict(X_train), color = 'blue')\n",
    "\n",
    "plt.title('SAT degrees')\n",
    "plt.xlabel('high_GPA')\n",
    "plt.ylabel('univ_GPA')\n",
    "plt.show()"
   ]
  },
  {
   "cell_type": "code",
   "execution_count": null,
   "id": "6c7658b5",
   "metadata": {},
   "outputs": [],
   "source": []
  }
 ],
 "metadata": {
  "kernelspec": {
   "display_name": "Python 3 (ipykernel)",
   "language": "python",
   "name": "python3"
  },
  "language_info": {
   "codemirror_mode": {
    "name": "ipython",
    "version": 3
   },
   "file_extension": ".py",
   "mimetype": "text/x-python",
   "name": "python",
   "nbconvert_exporter": "python",
   "pygments_lexer": "ipython3",
   "version": "3.9.7"
  }
 },
 "nbformat": 4,
 "nbformat_minor": 5
}
